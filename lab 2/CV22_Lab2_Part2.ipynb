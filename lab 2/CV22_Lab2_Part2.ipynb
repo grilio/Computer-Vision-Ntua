{
 "cells": [
  {
   "cell_type": "markdown",
   "id": "ec6df0cb",
   "metadata": {},
   "source": [
    "# Computer Vision 2022 2nd Lab - Part 2: Εντοπισμός Χωρο-χρονικών Σημείων Ενδιαφέροντος και ΕξΧαρακτηριστικών σε Βίντεο Ανθρωπίνων Δράσεων<br>\n",
    "\n",
    "Ηλιόπουλος Γεώργιος - 03118815 <br>\n",
    "Σερλής Αναστάσιος Εμανουήλ - 03118125"
   ]
  },
  {
   "cell_type": "code",
   "execution_count": 1,
   "id": "c443b26d",
   "metadata": {},
   "outputs": [],
   "source": [
    "from cv22_lab2_2_utils import read_video, show_detection, orientation_histogram, bag_of_words, svm_train_test\n",
    "from os import listdir\n",
    "from os.path import isfile, join\n",
    "import numpy as np\n",
    "import scipy\n",
    "from scipy import signal\n",
    "from scipy import ndimage as nd\n",
    "import cv2\n",
    "from scipy.ndimage import convolve1d"
   ]
  },
  {
   "cell_type": "code",
   "execution_count": 2,
   "id": "26926f89",
   "metadata": {},
   "outputs": [],
   "source": [
    "#function to make beep so we know the cell finished running\n",
    "from IPython.display import Audio\n",
    "sound = listdir('./audio-numbers/')\n",
    "\n",
    "\n",
    "def notice(n):\n",
    "    sound_file = './audio-numbers/' + str(n) + '.wav'\n",
    "    return Audio(sound_file, autoplay = True)"
   ]
  },
  {
   "cell_type": "code",
   "execution_count": 3,
   "id": "bb236691",
   "metadata": {},
   "outputs": [
    {
     "name": "stdout",
     "output_type": "stream",
     "text": [
      "There are 16 videos for walking, 16 videos for running and 16 videos for boxing.\n"
     ]
    }
   ],
   "source": [
    "#reading files name\n",
    "walk_videos = listdir('./walking/')\n",
    "run_videos = listdir('./running/')\n",
    "box_videos = listdir('./boxing/')\n",
    "\n",
    "#conneting file name to path\n",
    "for i in range (16):\n",
    "    walk_videos[i] = './walking/' + walk_videos[i]\n",
    "    run_videos[i] = './running/' + run_videos[i]\n",
    "    box_videos[i] = './boxing/' + box_videos[i]\n",
    "\n",
    "print(\"There are\", str(len(walk_videos)), \"videos for walking,\", str(len(run_videos)), \\\n",
    "      \"videos for running and\", str(len(box_videos)), \"videos for boxing.\")"
   ]
  },
  {
   "cell_type": "code",
   "execution_count": 4,
   "id": "f96fc561",
   "metadata": {},
   "outputs": [],
   "source": [
    "#importing 1 video from each catecory\n",
    "walk_video1 = read_video(walk_videos[1], 200)\n",
    "run_video1 = read_video(run_videos[1], 200)\n",
    "box_video1 = read_video(box_videos[1], 200)"
   ]
  },
  {
   "cell_type": "markdown",
   "id": "26bb3ea8",
   "metadata": {},
   "source": [
    "### 2.1: Χωρο-χρονικά Σημεία Ενδιαφέροντος"
   ]
  },
  {
   "cell_type": "code",
   "execution_count": 5,
   "id": "a135b5df",
   "metadata": {},
   "outputs": [],
   "source": [
    "In = walk_video1\n",
    "sigma = 4\n",
    "tau = 1.5\n",
    "s = 2\n",
    "k = 0.005\n",
    "N = 600\n",
    "\n",
    "n = int(2 * np.ceil(3 * sigma) + 1) # kernel size\n",
    "Gauss_1D = cv2.getGaussianKernel(n, sigma)\n",
    "Gauss_1D = Gauss_1D.reshape(Gauss_1D.shape[0])\n",
    "In_2 = convolve1d(In, Gauss_1D, axis = 0)\n",
    "\n",
    "In_3 = convolve1d(In_2, Gauss_1D, axis = 1)\n",
    "\n",
    "n = int(2 * np.ceil(3 * tau) + 1) # kernel size\n",
    "Gauss_t = cv2.getGaussianKernel(n, tau)\n",
    "Gauss_t = Gauss_t.reshape(Gauss_t.shape[0])\n",
    "In_4 = convolve1d(In_3, Gauss_t, axis = 2)"
   ]
  },
  {
   "cell_type": "code",
   "execution_count": 6,
   "id": "b1d402ca",
   "metadata": {},
   "outputs": [],
   "source": [
    "def space_time_Gaus (In, sigma, tau):\n",
    "    \n",
    "    n = int(2 * np.ceil(3 * sigma) + 1) # kernel size\n",
    "    Gauss_1D = cv2.getGaussianKernel(n, sigma)\n",
    "    Gauss_2D = Gauss_1D @ Gauss_1D.transpose()\n",
    "    \n",
    "    # making Gaussian kernel 3D so we can add another Gaussian Kernel in 3rd axis\n",
    "    Gauss_2D = Gauss_2D.reshape(Gauss_2D.shape[0], Gauss_2D.shape[1], 1)\n",
    "    \n",
    "    # create a temporal Gaussian kernel\n",
    "    n = int(2 * np.ceil(3 * tau) + 1) # kernel size\n",
    "    Gauss_time = cv2.getGaussianKernel(n, tau)\n",
    "    # making Gaussian kernel 3D so we can add the above Gaussian Kernels in 1st and 2nd axis\n",
    "    Gauss_time = Gauss_time.reshape(1, 1, Gauss_time.shape[0])\n",
    "    \n",
    "    # connecting the 3 kernels\n",
    "    Gauss = nd.convolve(Gauss_time, Gauss_2D)\n",
    "    L = nd.convolve(In, Gauss)\n",
    "    \n",
    "    return L\n",
    "\n",
    "def space_Gaus (In, sigma):\n",
    "    \n",
    "    n = int(2 * np.ceil(3 * sigma) + 1) # kernel size\n",
    "    Gauss_1D = cv2.getGaussianKernel(n, sigma)\n",
    "    Gauss_2D = Gauss_1D @ Gauss_1D.transpose()\n",
    "    \n",
    "    # making Gaussian kernel 3D so we convolve with video only in space (x, y)\n",
    "    Gauss_2D = Gauss_2D.reshape(Gauss_2D.shape[0], Gauss_2D.shape[1], 1)\n",
    "    \n",
    "    L = nd.convolve(In, Gauss_2D)\n",
    "    \n",
    "    return L"
   ]
  },
  {
   "cell_type": "code",
   "execution_count": 7,
   "id": "392c6fd8",
   "metadata": {},
   "outputs": [],
   "source": [
    "def Harris_Detector (In, sigma, tau, s, k):\n",
    "    \n",
    "    In = In.astype(np.float32)\n",
    "    \n",
    "    L = space_time_Gaus(In, sigma, tau)\n",
    "    \n",
    "    # using [-1 0 1] table to calculate derivative in one axis\n",
    "    dx = np.array([[[-1],[0],[1]]])\n",
    "    Lx = nd.convolve(L, dx)\n",
    "    # changing [-1 0 1] table orientation\n",
    "    dy = np.array([[[-1]],[[0]],[[1]]])\n",
    "    Ly = nd.convolve(L, dy)\n",
    "    # changing [-1 0 1] table orientation\n",
    "    dt = np.array([[[-1,  0,  1]]])\n",
    "    Lt = nd.convolve(L, dt)\n",
    "    \n",
    "    L = np.array([[Lx*Lx, Lx*Ly, Lx*Lt], [Lx*Ly, Ly*Ly, Ly*Lt], [Lx*Lt, Ly*Lt, Lt*Lt]])\n",
    "    \n",
    "    #initializing M table\n",
    "    M = L\n",
    "    \n",
    "    for i in range(3):\n",
    "        for j in range(3):\n",
    "            M[i,j] = space_time_Gaus(L[i,j], sigma*s, tau*s)\n",
    "    \n",
    "    trace = np.trace(M)\n",
    "    det = M[0,0]*(M[1,1]*M[2,2] - M[1,2]*M[2,1]) - M[0,1]*(M[1,0]*M[2,2] - M[1,2]*M[2,0]) \\\n",
    "        + M[0,2]*(M[1,0]*M[2,1] - M[1,1]*M[2,0])\n",
    "    H = det - k * trace**3\n",
    "    \n",
    "    return H"
   ]
  },
  {
   "cell_type": "code",
   "execution_count": 8,
   "id": "66567162",
   "metadata": {},
   "outputs": [],
   "source": [
    "def Gabor_Detector (In, sigma, tau):\n",
    "    \n",
    "    In = In.astype(np.float32)\n",
    "    \n",
    "    L = space_Gaus(In, sigma)\n",
    "    \n",
    "    w = 4 / tau\n",
    "    t = np.arange(-2*tau, 2*tau + 1)\n",
    "    \n",
    "    h_ev = np.cos(2 * np.pi * t * w) * np.exp(-t**2 / (2 * tau**2))\n",
    "    h_od = np.sin(2 * np.pi * t * w) * np.exp(-t**2 / (2 * tau**2))\n",
    "    \n",
    "    #nrmalazation with L1 norm\n",
    "    h_ev = h_ev/np.linalg.norm(h_ev, ord=1)\n",
    "    h_od = h_od/np.linalg.norm(h_od, ord=1)\n",
    "    \n",
    "    H = convolve1d(L, h_ev) ** 2 + convolve1d(L, h_od) ** 2\n",
    "    \n",
    "    return H"
   ]
  },
  {
   "cell_type": "code",
   "execution_count": 9,
   "id": "8c329173",
   "metadata": {},
   "outputs": [],
   "source": [
    "def find_points(H, N, sigma):\n",
    "    \n",
    "    max_points = np.dstack(np.unravel_index(np.argsort(H.ravel()), (H.shape[0], H.shape[1], H.shape[2])))\n",
    "    max_points = max_points.reshape(max_points.shape[1], max_points.shape[2])\n",
    "    max_points = max_points[-N:]\n",
    "    \n",
    "    toReturn = np.array([np.append(pair[:2][::-1],[pair[2], sigma]) for pair in max_points])\n",
    "        \n",
    "    return toReturn"
   ]
  },
  {
   "cell_type": "code",
   "execution_count": 10,
   "id": "507223f5",
   "metadata": {},
   "outputs": [],
   "source": [
    "def Harris_points (In, sigma, tau, s, k, N):\n",
    "    H = Harris_Detector (In, sigma, tau, s, k)\n",
    "    return find_points(H, N, sigma)\n",
    "\n",
    "def Gabor_points (In, sigma, tau, N):\n",
    "    H = Gabor_Detector (In, sigma, tau)\n",
    "    return find_points(H, N, sigma)"
   ]
  },
  {
   "cell_type": "code",
   "execution_count": null,
   "id": "0b098af3",
   "metadata": {},
   "outputs": [],
   "source": [
    "In = walk_video1\n",
    "sigma = 4\n",
    "tau = 1.5\n",
    "s = 2\n",
    "k = 0.005\n",
    "N = 600\n",
    "H_Harris_walk = Harris_Detector (In, sigma, tau, s, k)\n",
    "H_Gabor_walk = Gabor_Detector (In, sigma, tau)\n",
    "In = box_video1\n",
    "H_Harris_box = Harris_Detector (In, sigma, tau, s, k)\n",
    "H_Gabor_box = Gabor_Detector (In, sigma, tau)\n",
    "In = run_video1\n",
    "H_Harris_run = Harris_Detector (In, sigma, tau, s, k)\n",
    "H_Gabor_run = Gabor_Detector (In, sigma, tau)\n",
    "\n",
    "#exporting data to plot matrixes H\n",
    "save('H_Harris_walk.npy', H_Harris_walk)\n",
    "save('H_Gabor_walk.npy', H_Gabor_walk)\n",
    "save('H_Harris_box.npy', H_Harris_box)\n",
    "save('H_Gabor_box.npy', H_Gabor_box)\n",
    "save('H_Harris_run.npy', H_Harris_run)\n",
    "save('H_Gabor_run.npy', H_Gabor_run)"
   ]
  },
  {
   "cell_type": "code",
   "execution_count": 11,
   "id": "132ee778",
   "metadata": {},
   "outputs": [],
   "source": [
    "In = walk_video1\n",
    "#show_detection(In, Harris_points (In, sigma, tau, s, k, N), save_path=r\"./frames/Harris_walk_frames\")\n",
    "In = run_video1\n",
    "#show_detection(In, Harris_points (In, sigma, tau, s, k, N), save_path=r\"./frames/Harris_run_frames\")\n",
    "In = box_video1\n",
    "#show_detection(In, Harris_points (In, sigma, tau, s, k, N), save_path=r\"./frames/Harris_box_frames\")\n",
    "In = walk_video1\n",
    "#show_detection(In, Gabor_points (In, sigma, tau, N), save_path=r\"./frames/Gabor_walk_frames\")\n",
    "In = run_video1\n",
    "#show_detection(In, Gabor_points (In, sigma, tau, N), save_path=r\"./frames/Gabor_run_frames\")\n",
    "In = box_video1\n",
    "#show_detection(In, Gabor_points (In, sigma, tau, N), save_path=r\"./frames/Gabor_box_frames\")"
   ]
  },
  {
   "cell_type": "markdown",
   "id": "488dc0ac",
   "metadata": {},
   "source": [
    "### 2.2: Χωρο-χρονικοί Ιστογραφικοί Περιγραφητές"
   ]
  },
  {
   "cell_type": "code",
   "execution_count": 12,
   "id": "3ca6d3ce",
   "metadata": {},
   "outputs": [],
   "source": [
    "#2.2.1\n",
    "#dy, dx, _ = np.gradient(In)\n",
    "\n",
    "def compute_TVL1(prev, cur):\n",
    "    oflow = cv2.DualTVL1OpticalFlow_create(nscales=1)\n",
    "    flow = oflow.calc(prev, cur, None)\n",
    "    return flow"
   ]
  },
  {
   "cell_type": "code",
   "execution_count": 13,
   "id": "5a6bd039",
   "metadata": {},
   "outputs": [],
   "source": [
    "def optical_flow_TVL1(In):\n",
    "    \n",
    "    In = In.astype(np.uint8)\n",
    "    \n",
    "    #initializing np arrays for flow in x and y\n",
    "    x_f = np.empty((In.shape[0], In.shape[1], In.shape[2]))\n",
    "    y_f = np.empty((In.shape[0], In.shape[1], In.shape[2]))\n",
    "    \n",
    "    #converting in uint8 type \n",
    "    \n",
    "    for t in range(In.shape[2]):\n",
    "        \n",
    "        #if border\n",
    "        if t == In.shape[2] - 1:\n",
    "            t = t - 1\n",
    "        \n",
    "        prev = In[:,:,t]\n",
    "        cur = In[:,:,t+1]\n",
    "        \n",
    "        H = compute_TVL1(prev, cur)\n",
    "        \n",
    "        x_f[:, :, t] = H[:, :, 1]\n",
    "        y_f[:, :, t] = H[:, :, 0]\n",
    "        \n",
    "    return (x_f, y_f)"
   ]
  },
  {
   "cell_type": "code",
   "execution_count": 14,
   "id": "dcecd3f5",
   "metadata": {},
   "outputs": [],
   "source": [
    "#2.2.2\n",
    "def HOG (In, interest_points, nbins=9, n=3, m=3):\n",
    "    \n",
    "    dy, dx, _ = np.gradient(In)\n",
    "    \n",
    "    max_y = In.shape[0]\n",
    "    max_x = In.shape[1]\n",
    "    Y = []\n",
    "    \n",
    "    for H in interest_points:\n",
    "        \n",
    "        #seperating points' coordinates\n",
    "        x = H[0]\n",
    "        y = H[1]\n",
    "        t = H[2]\n",
    "        sigma = H[3]\n",
    "        \n",
    "        #region 4*sigma around each interest point\n",
    "        side = int(np.round(4 * sigma))\n",
    "        \n",
    "        #using ifs to avoid getting out of image dimentions\n",
    "        if x - side <= 0:\n",
    "            x_left = 0\n",
    "        else:\n",
    "            x_left = x - side\n",
    "            \n",
    "        if x + side + 1 >= max_x:\n",
    "            x_right = max_x\n",
    "        else:\n",
    "            x_right = x + side + 1\n",
    "        \n",
    "        if y - side <= 0:\n",
    "            y_up = 0\n",
    "        else:\n",
    "            y_up = y - side\n",
    "            \n",
    "        if y + side + 1 >= max_y:\n",
    "            y_down = max_y\n",
    "        else:\n",
    "            y_down = y + side + 1\n",
    "    \n",
    "        \n",
    "        Gx = dx[y_up:y_down, x_left:x_right, t]\n",
    "        Gy = dy[y_up:y_down, x_left:x_right, t]\n",
    "        \n",
    "        Y.append(orientation_histogram(Gx, Gy, nbins, np.array([n,m])))\n",
    "    \n",
    "    Y = np.array(Y)\n",
    "    return Y"
   ]
  },
  {
   "cell_type": "code",
   "execution_count": 15,
   "id": "6118b971",
   "metadata": {},
   "outputs": [],
   "source": [
    "def HOF (In, interest_points, nbins=9, n=3, m=3):\n",
    "    \n",
    "    dx, dy = optical_flow_TVL1(In)\n",
    "    \n",
    "    max_y = In.shape[0]\n",
    "    max_x = In.shape[1]\n",
    "    Y = []\n",
    "    \n",
    "    for H in interest_points:\n",
    "        \n",
    "        #seperating points' coordinates\n",
    "        x = H[0]\n",
    "        y = H[1]\n",
    "        t = H[2]\n",
    "        sigma = H[3]\n",
    "        \n",
    "        #region 4*sigma around each interest point\n",
    "        side = int(np.round(4 * sigma))\n",
    "        \n",
    "        #using ifs to avoid getting out of image dimentions\n",
    "        if x - side <= 0:\n",
    "            x_left = 0\n",
    "        else:\n",
    "            x_left = x - side\n",
    "            \n",
    "        if x + side + 1 >= max_x:\n",
    "            x_right = max_x\n",
    "        else:\n",
    "            x_right = x + side + 1\n",
    "        \n",
    "        if y - side <= 0:\n",
    "            y_up = 0\n",
    "        else:\n",
    "            y_up = y - side\n",
    "            \n",
    "        if y + side + 1 >= max_y:\n",
    "            y_down = max_y\n",
    "        else:\n",
    "            y_down = y + side + 1\n",
    "        \n",
    "        Gx = dx[y_up:y_down, x_left:x_right, t]\n",
    "        Gy = dy[y_up:y_down, x_left:x_right, t]\n",
    "        \n",
    "        Y.append(orientation_histogram(Gx, Gy, nbins, np.array([n,m])))\n",
    "    \n",
    "    Y = np.array(Y)\n",
    "    return Y"
   ]
  },
  {
   "cell_type": "code",
   "execution_count": 16,
   "id": "44299a77",
   "metadata": {},
   "outputs": [],
   "source": [
    "def HOF_HOG (In, interest_points, nbins=9, n=3, m=3):\n",
    "    hof = HOF(In, interest_points, nbins=9, n=3, m=3)\n",
    "    hog = HOG(In, interest_points, nbins=9, n=3, m=3)\n",
    "    return np.concatenate((hog, hof))"
   ]
  },
  {
   "cell_type": "code",
   "execution_count": 17,
   "id": "902ddc9c",
   "metadata": {},
   "outputs": [],
   "source": [
    "In = walk_video1\n",
    "sigma = 4\n",
    "tau = 1.5\n",
    "s = 2\n",
    "k = 0.005\n",
    "N = 600\n",
    "points = Gabor_points (In, sigma, tau, N)"
   ]
  },
  {
   "cell_type": "markdown",
   "id": "1128c337",
   "metadata": {},
   "source": [
    "### 2.2: Κατασκευή Bag of Visual Words και χρήση Support Vector Machines για την ταξινόμηση δράσεων"
   ]
  },
  {
   "cell_type": "code",
   "execution_count": 18,
   "id": "087528ef",
   "metadata": {},
   "outputs": [],
   "source": [
    "#2.3.1\n",
    "\n",
    "#seperating videos into test and train sets as the traininng_videos.txt describes\n",
    "training_videos_txt = open('traininng_videos.txt', 'r')\n",
    "training_videos_names = training_videos_txt.readlines()\n",
    "\n",
    "training_videos = []\n",
    "test_videos = []\n",
    "training_labels= []\n",
    "test_labels= []\n",
    "test_videos_name = []\n",
    "\n",
    "for name in listdir('./walking/'):\n",
    "    #print('./walking/' + name)\n",
    "    if name + '\\n' in training_videos_names:\n",
    "        vid = read_video('./walking/' + name , 200)\n",
    "        training_videos.append(vid)\n",
    "        training_labels.append('walk')\n",
    "    else:\n",
    "        vid = read_video('./walking/' + name , 200)\n",
    "        test_videos.append(vid)\n",
    "        test_labels.append('walk')\n",
    "        test_videos_name.append(name)\n",
    "\n",
    "        \n",
    "for name in listdir('./boxing/'):\n",
    "    #print('./walking/' + name)\n",
    "    if name + '\\n' in training_videos_names:\n",
    "        vid = read_video('./boxing/' + name , 200)\n",
    "        training_videos.append(vid)\n",
    "        training_labels.append('box')\n",
    "    else:\n",
    "        vid = read_video('./boxing/' + name , 200)\n",
    "        test_videos.append(vid)\n",
    "        test_labels.append('box')\n",
    "        test_videos_name.append(name)\n",
    "\n",
    "\n",
    "for name in listdir('./running/'):\n",
    "    #print('./walking/' + name)\n",
    "    if name + '\\n' in training_videos_names:\n",
    "        vid = read_video('./running/' + name , 200)\n",
    "        training_videos.append(vid)\n",
    "        training_labels.append('run')\n",
    "    else:\n",
    "        vid = read_video('./running/' + name , 200)\n",
    "        test_videos.append(vid)\n",
    "        test_labels.append('run')\n",
    "        test_videos_name.append(name)"
   ]
  },
  {
   "cell_type": "code",
   "execution_count": 19,
   "id": "437d9baf",
   "metadata": {
    "scrolled": true
   },
   "outputs": [],
   "source": [
    "#2.3.2 and 2.3.3\n",
    "#Harris/HOG\n",
    "interest_Harris_points_training = []\n",
    "desc_HOG_Harris_train = []\n",
    "sigma = 4\n",
    "tau = 1.5\n",
    "s = 2\n",
    "k = 0.005\n",
    "N = 600\n",
    "n = int(np.round(4*sigma))\n",
    "m = int(np.round(4*sigma))\n",
    "for Input in training_videos:\n",
    "    interest_points = Harris_points(Input, sigma, tau, s, k, N)\n",
    "    interest_Harris_points_training.append(interest_points)\n",
    "    desc = HOG(In, interest_points, 9, n, m)\n",
    "    desc_HOG_Harris_train.append(desc)"
   ]
  },
  {
   "cell_type": "code",
   "execution_count": 20,
   "id": "31c99a5f",
   "metadata": {},
   "outputs": [],
   "source": [
    "interest_Harris_points_test = []\n",
    "desc_HOG_Harris_test = []\n",
    "for Input in test_videos:\n",
    "    interest_points = Harris_points(Input, sigma, tau, s, k, N)\n",
    "    interest_Harris_points_test.append(interest_points)\n",
    "    desc = HOG(In, interest_points, 9, n, m)\n",
    "    desc_HOG_Harris_test.append(desc)"
   ]
  },
  {
   "cell_type": "code",
   "execution_count": 21,
   "id": "e4dbab97",
   "metadata": {},
   "outputs": [
    {
     "data": {
      "text/html": [
       "\n",
       "                <audio  controls=\"controls\" autoplay=\"autoplay\">\n",
       "                    <source src=\"data:audio/wav;base64,UklGRrAcAABXQVZFZm10IBIAAAAHAAEAQB8AAEAfAAABAAgAAABmYWN0BAAAAH4cAABkYXRhfhwAAP////////////////////////////////////////////////////////////////////////////////////////////////////////////////////////////////////////////////////////////////////////////////////////////////////////////////////////////////////////////////////////////////////////////////////////////////////////////////////////////////////////////////////////////////////////////////////////////////////////////////////////////////////////////////////////////////////////////////////////////////////////////////////////////////////////////////////////////////////////////////////////////////////////////////////////////////////////////////////////////////////////////////////////////////////////////////////////////////////////////////////////////////////////////////////////////////////////////////////////////////////////////////////////////////////////////////////////////////////////////////////////////////////////////////////////////////////////////////////////////////////////////////////////////////////////////////////////////////////////////////////////////////////////////////////////////////////////////////////////////////////////////////////////////////////////////////////////////////////////////////////////////////////////////////////////////////////////////////////////////////////////////////////////////////////////////////////////////////////////////////////////////////////////////////////////////////////////////////////////////////////////////////////////////////////////////////////////////////////////////////////////////////////////////////////////////////////////////////////////////////////////////////////////////////////////////////////////////////////////////////////////////////////////////////////////////////////////////////////////////////////////////////////////////////////////////////////////////////////////////////////////////////////////////////////////////////////////////////////////////////////////////////////////////////////////////////////////////////////////////////////////////////////////////////////////////////////////////////////////////////////////////////////////////////////////////////////////////////////////////////////////////////////////////////////////////////////////////////////////////////////////////////////////////////////////////////////////////////////////////////////////////////////////////////////////////////////////////////////////////////////////////////////////////////////////////////////////////9nZ2dnZ2dnZ2dnZ////////////////////+fn5/////////9nZ2dbW1tbW1tbW1tbW1tnZ2f//////+fn29vT083Nzc3N09vn/2dbTUlFQUFBQUVJTU1TW2dn////5+fb29PTzc3JxcXBxcnN0+f/W1NNSUVFRUVFSUlNTVNTW1tnZ2dnZ2dnZ2f////n29PNycXFwcHBxcnN2/9nW01JSUVFRUVFSUlNU1NbW2dnZ2dnZ2dn////59vNycXBvry8vsHJ0+f/W01JSUVFRUVFRUVJSU1TU1tbW1tbW1tbZ2f//+fTzcnBvry6ury+xc3n/1NNRUFBPj4+QUFFRUlNU1NbW2dnZ2dnZ2f////n083Jwb68urq6vMHJ2/9TTUVBQT4+Pj5BQUVJTU1TW1tbZ2dnZ2dnZ///59vTycXBvLq4uLi8wc3nZ1NJQT4+Pjw+PkFFRUlNTVNTW1tnZ2dnZ2dn///b083Fwb66uLa2uLrBzf9bSUE+PDw8PDw+QUFFSU1TU1tbZ2dnZ2dnZ///59vTzcXBvLq4tra2usHN/1tJPjw6ODg6PDw+QUVJTVNbW2dnZ2dnZ2dn///n29PJxb68uLa0tLa4vsnnW0U+Ojg2Njg6PD5FSU1TU1tnZ////2dnZ2f////b08nFvrq4tLSytLi+zf9TQTw2NDQ0Njg8PkVJTVNbZ2f/////Z2dnZ2f//9vTycG8ura0srK0uMHT/00+ODQyMDI0ODw+RUlTW2f///////9nZ1tnZ///283Fvrq2srKysrS6yedTPjYyMDAwMjY6PkVNU1tn/////////2dbW1tn/9vNxby4srCvr7Cyusn/SToyMC4uLzA0Oj5JU1v//+fn5+f//2dbU1NTZ//Txby2sq+trK2wtsH/STgwLSwsLS8yOkFJW2f/5+fn5+f//2dTTU1NU//bxbqyr6yqqquvtslnPjItKikqLC8yOkFTZ//n09PT0+f/Z1NJQUFJW//JurKtqqenqKuwvv9BMCsnJiYpLDA4RVP/283Nyc3T2/9TRT46Oj5N/8m2r6qmo6Kjp668/zotJiIhIiUrMDpN/9PJwcHBxdP/U0E4MjAyOEX/vrCoop+enqClr8lFLiQfHh4gJSw2TefFvLi2uLzJ5008Mi0rLC84U8myqKKenJydoKi2ZzAkHRsaHCEpNFPNurSysra8yf9JOC8qJygsMk3JsKegnZuam56ksP8wIhsZGRsgKzz/vrSysrK4vM3/RTIsJyUmKzJNxbCnop6dnJydoKq+PiYcGBgaIC1Jybiysri8wc3bZ0U0LCclJis2U8Wyq6ejoqCenZ2hrM0wIBkXGR8tScW4trzF09vT2+dNOi4oJScsNk3TurKuq6ikoJ2cnKKwTSYbFxkdKknJuLrB2+f/29PnWzovKScqLzpN/9PFvrawqqSgnZucobBJJBsXGSAvZ764vMXn5+fb51M8LyopLDI+TVtbU2fbvrKqo5+dm5yfrlsmGhYYHzDNsq6yxf9bW1NTPjItKy84SVtbRTw4PGfFsKiin56cmpyn2ycYExUfPrKkprLnQTg+SUk+MC4vOlPb/0kyLC00W7ytp6Sin52bm6LFKhgSFiD/qqCkukUvLzZTU0k4MjhJ29tbNComKzj/uLCsq6ikoJ6eoq5TJxwZHzDFq6mw/zgvMjxbU0k+PE1b/0k2KygrNmfFuLaysqyno6Kjpa3JMiIbHiz/q6it2zQsLjpb/1NJPE1bZ0UwKiguPtvBvsnBuq+opaSnqauw/y4fGyRBsKKpvDYpKTZb0/9JPkFnZ00wKigvRc3Fzf//xbKqqaqsraqorv8oHRwuxaaitE0oJi9T29NTQUVT/0U0LCswTdvN/1NN57ivrK6wsKulo65FIhwfQbCjp9syJiw8/9P/SUlTW002Li00Tef/Uz5BU824srCysKyopaeySSYgJEmyqa3/MiguPufT21tTTUk+MjA0RVv/TT46RWfNvrq2tLCsqqmprcE0JiQvwa+qwTgsKjr/yc3/SUlBQTo0OEFTW0U6OD5n08nFwbq0r6yrq6uuzTIlJji4ra7/LyotTdPF21tFTUVFODY8SWdTPjY4Sf/T0+fNvLKurq6trKy2RSknMMWusNswLDBN083/W01TSUE4NjxNZ008NDpN59v/Z//Bsq+vsK+sq67nLSct/6+ywTQtMEHT0/9bW2dTPDgyQVv/Uzo2OEn/5/9bW9O6srKysq6rrLRTLCw2ybC+/zAwOlPn/2dn/1tJODg8TVtTQTg6QVNnZ1NT/8m6tLS0sq6srbL/MC44/7TB/zgyPk3//2f//2dNNjg+Tf9JPjo6SU1TU01b/9vFurS2srKvrrC4WzAyQc26500yPE3//2dbZ1tNQTxJU1NFPDxFTVNFRUlT/+fTxbq4uLayra2vulMwNE3NvP9FND5bZ/9nZ/9bST48TVNTQTpBSU1JQUFJW///282+ury6sq6tsLbNRTJBW8XTTUE6U1tbZ2dn/01JQUlTTUU+QUlNSUE+RVNn///bzcW+vLiyrq6ytMFNNDxTydNJRTxTW01TZ///TUlNW2c+Oj5FW0lBPj5JSVP//9vn28W8uLKyr7CytMlFNEX/zf9JSU1TSUVb//9nSU1bZ00+PklTST4+QUVFRVP///9n/8m8urqyr62wsrrnOjhT/81TSU1JTUVN/+f/U0lbW1NJPkFTSUk+PkVBRUlb//9bW//JvL68tK6ssLK2xUk0Sf/T/0VTTUlFSf/b/1tNU2dTTUlFRUlFSUE+QUFJTVtnZ2dn/8m+vrqyrq2ysrTJRTZN/+dbSVtTQUFN/9tbU1NbU0lJU01FQUlNSUE8QUlNU1tnZ1tb/8m8vrqyra2ysrTJRTRT/2dbTf9TPkFb/+dTU2dbTUlNW01FQU1TRUFBQUVFU2dbU1Nb/9vBvLy0sK2tsrK62z46Z1tbU1P/RTxJZ/9nU2dnTUlNU1NJTVNJSUVJSUFBSVNTTU1bW1v/zb68vLKura6wsrrbRTxbU0VTU2dBPk1nW1tn/2dNTVNbSU1bW1NJQU1JPkVNU0lJW1tNU//T08W+urSwrq6wsLjFZzxBU0FFU1NNQUlbW1Nn//9bU1tTTU1bW1NNTUVFQUFNTVNTU1tbU1v/59vJvry4srKvsLK0vtNNOkVFPElNW1NFU1tTW////1tbZ1NNTVNTTVNTTUFBSUlNU1tbTVNbTVtn/83Jwby4tLSysrS2vNNbPEFJOkVNW1tJW/9bZ2f//2dbZ1NNTU1TTU1TU01JTVNNU1tbU01TU1NbZ+fb08XFvLq4tLSytLq+01tNSUE+QUVNSU1bZ///Z///Z1tbU1NNTU1JSUlNTU1NW1tbZ1tbW1NbU1tbZ////+fb08nFvrq4tra2ur7Fydv/W01JQUE+QUFFRUlNU1tbZ////2dnW1tTTU1NTU1NU01NU1NbW2f/59vTzcnBvry6uLa2trq8wc3nZ01FPjo6Ojo6PEFFTVNbZ////+fn////Z1tTTU1JSUlJSU1NU1tn/+fb083JxcG+vLy6uLi4ur7FzednU0lBPDo6Ojw8PkVJTVtn////5+f///9nW1NTTU1JSUlJTU1TW2f/59vTzcnFxcG+vry6urq8wcXN52dTSUE+PDw8PD5BRUlNU2f//////////2dnW1NTTU1NSUlJTU1TW2f/59vb083JycXBvry8urq8vsXN2/9bTUVBPj4+PD5BRUlNU1tn////5/////9nW1tbU1NTTU1NTVNTW1tn///n29PNzcnFwb68vLq6vL7Bydv/Z01JQT4+PDw+QUVFSVNbZ///////////Z2dbW1tTU1NTTVNTU1tbZ////+fb29PTzcnFwby6urq8vsHN2/9nU0lBPj4+Pj5BRUlNU1tn//////////9nZ2dnW1tbW1NTU1NTU1tbZ2f////n59vTzcnFwb68urq8vsXN2/9nU0lBQT4+Pj5BRUlNU1tn////////////Z2dnZ2dnW1tbW1NTU1NbW1tnZ////+fb083JxcG+vLq6vL7Bydv/Z1NJRUE+Pj4+QUVJTVNbZ2f/////////////////Z2dnW1tbU1NTU1NTW1tnZ///59vTzcnFwb68vLy8vsHJ0+f/W01JRUE+Pj5BRUVJTVNbZ2f//////////////////2dnW1tTU1NTU1NTW1tnZ///59vTzcnJxcG+vLy8vsHJ0+f/Z1NJRUFBPj5BRUVJTVNbZ2f/////////////////Z2dbW1NTU01NU1NTW1tnZ///59vT083JxcHBvry8vsHFzdv/Z1NNRUFBPj4+QUVFSU1TW2f/////////////////Z2dnW1tTU1NTU1NTW1tnZ////+fb09PNycnFwb6+vr7Bxc3b//9bTUlBQT4+PkFFRUlNU1tn/////////////////2dnW1tTU1NNTVNTU1tbZ2f//+fn29PTzc3JxcXBwb7BwcXJ0+f/Z1NJRUFBQUFBRUlJTVNbZ/////////////////9nZ2dbU1NTU01TU1NbW2dn////59vb09PNzcnJxcXBwcHFyc3b//9bU0lFRUFBQUVFSU1TW1tn////////////////Z2dnW1tTU1NTU1NTW1tnZ////+fn29vT083NzcnJxcXFxcXJ09vn/2dTTUlFQUVFRUVJTVNTW2f///////////////9nZ1tbW1NTU1NTU1NbZ2f////n59vb09PTzc3NzcnJycnJyc3T2///W1NNSUVFRUVFSUlNU1tbZ///////////////Z2dbW1tTU1NTU1NbW2dn////5+fb29vT09PNzc3NycnJycnN09vn/2dbU01JRUVFSUlJTVNTW2dn//////////9nZ2dbW1tbU1NTU1NbZ///5+fb29vb09PT09PNzcnJycnJzdPn/1tbTUlJSUlJSU1TU1tnZ2dn/2dnZ1tbU1NTU1tbW2dn/////////////////+fn59vT09PNyc3JycnN09PT5+f//1tTU01NTU1NTU1TU1NTU1NTU1NTU1NbW1tnZ2dn////////////////5+fn59vb29PT09PT09PT09vb5+f///9nZ1tbU01NTU1NTU1NTU1NU1NTW1tbW2dnZ////////////+fn5+fn5+fn5+fn5+fn5+fn5+fn5+fn//////////9n/2dnZ2dnW1tnW1tbW1tTW1tbW1tnZ2dn/////////////////////////////////////////////////////////////////////2f///9n////////Z2dnZ/9n/2dnZ2dnZ2f/Z2dnZ2dn//////////////////////////////////////////////////////////////////////////////9n////////////Z/////////////////////////////////////////////////////////////////////////////////////////////////////////////////////////////////////////////////////////////////////////////////////////////////////////////////////////////////////////////////////////////////////////////////////////////////////////////////////////////////////////////////////////////////////////////////////////////////////////////////////////////////////////////////////////////////////////////////////////////////////////////////////////////////////////////////////////////////////////////////////////////////////////////////////////////////////////////////////////////////////////////////////////////////////////////////////////////////////////////////////////////////////////////////////////////////////////////////////////////////////////////////////////////////////////////////////////////////////////////////////////////////////////////////////////////////////////////////////////////////////////////////////////////////////////////////////////////////////////////////////////////////////////////////////////////////////////////////////////////////////////////////////////////////////////////////////////////////////////////////////////////////////////////////////////////////////////////////////////////////////////////////////////////////////////////////////////////////////////////////////////////////////////////////////////////////////////////////////////////////////////////////////////////////////////////////////////////////////////////////////////////////////////////////////////////////////////////////////////////////////////////////////////////////////////////////////////////////////////////////////////////////////////////////////////////////////////////////////////////////////////////////////////////////////////////////////////8=\" type=\"audio/wav\" />\n",
       "                    Your browser does not support the audio element.\n",
       "                </audio>\n",
       "              "
      ],
      "text/plain": [
       "<IPython.lib.display.Audio object>"
      ]
     },
     "execution_count": 21,
     "metadata": {},
     "output_type": "execute_result"
    }
   ],
   "source": [
    "#Bag of Words for Harris/HOG\n",
    "bow_train_HOG_Harris, bow_test_HOG_Harris = bag_of_words(desc_HOG_Harris_train, desc_HOG_Harris_test, 400)\n",
    "notice(1)"
   ]
  },
  {
   "cell_type": "code",
   "execution_count": 22,
   "id": "fe5370c7",
   "metadata": {},
   "outputs": [],
   "source": [
    "#Harris/HOF\n",
    "desc_HOF_Harris_train = []\n",
    "i = 0\n",
    "for Input in training_videos:\n",
    "    desc = HOF(In, interest_Harris_points_training[i], 9, n, m)\n",
    "    desc_HOF_Harris_train.append(desc)\n",
    "    i += 1\n",
    "\n",
    "i = 0\n",
    "desc_HOF_Harris_test = []\n",
    "for Input in test_videos:\n",
    "    desc = HOG(In, interest_Harris_points_test[i], 9, n, m)\n",
    "    desc_HOF_Harris_test.append(desc)\n",
    "    i += 1"
   ]
  },
  {
   "cell_type": "code",
   "execution_count": 23,
   "id": "865d915c",
   "metadata": {},
   "outputs": [
    {
     "data": {
      "text/html": [
       "\n",
       "                <audio  controls=\"controls\" autoplay=\"autoplay\">\n",
       "                    <source src=\"data:audio/wav;base64,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\" type=\"audio/wav\" />\n",
       "                    Your browser does not support the audio element.\n",
       "                </audio>\n",
       "              "
      ],
      "text/plain": [
       "<IPython.lib.display.Audio object>"
      ]
     },
     "execution_count": 23,
     "metadata": {},
     "output_type": "execute_result"
    }
   ],
   "source": [
    "#Bag of Words for Harris/HOF\n",
    "bow_train_HOF_Harris, bow_test_HOF_Harris = bag_of_words(desc_HOF_Harris_train, desc_HOF_Harris_test, 400)\n",
    "notice(2)"
   ]
  },
  {
   "cell_type": "code",
   "execution_count": 24,
   "id": "36e14f78",
   "metadata": {},
   "outputs": [],
   "source": [
    "#Harris/HOF_HOG\n",
    "desc_HOF_HOG_Harris_train = []\n",
    "i = 0\n",
    "for Input in training_videos:\n",
    "    desc = HOF_HOG(In, interest_Harris_points_training[i], 9, n, m)\n",
    "    desc_HOF_HOG_Harris_train.append(desc)\n",
    "    i += 1\n",
    "\n",
    "i = 0\n",
    "desc_HOF_HOG_Harris_test = []\n",
    "for Input in test_videos:\n",
    "    desc = HOF_HOG(In, interest_Harris_points_test[i], 9, n, m)\n",
    "    desc_HOF_HOG_Harris_test.append(desc)\n",
    "    i += 1"
   ]
  },
  {
   "cell_type": "code",
   "execution_count": 25,
   "id": "a0a5c270",
   "metadata": {},
   "outputs": [
    {
     "data": {
      "text/html": [
       "\n",
       "                <audio  controls=\"controls\" autoplay=\"autoplay\">\n",
       "                    <source src=\"data:audio/wav;base64,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\" type=\"audio/wav\" />\n",
       "                    Your browser does not support the audio element.\n",
       "                </audio>\n",
       "              "
      ],
      "text/plain": [
       "<IPython.lib.display.Audio object>"
      ]
     },
     "execution_count": 25,
     "metadata": {},
     "output_type": "execute_result"
    }
   ],
   "source": [
    "#Bag of Words for Harris/HOF_HOG\n",
    "bow_train_HOF_HOG_Harris, bow_test_HOF_HOG_Harris = bag_of_words(desc_HOF_HOG_Harris_train, desc_HOF_HOG_Harris_test, 400)\n",
    "notice(3)"
   ]
  },
  {
   "cell_type": "code",
   "execution_count": 26,
   "id": "26b8c67a",
   "metadata": {},
   "outputs": [],
   "source": [
    "#Gabor/HOG\n",
    "interest_Gabor_points_training = []\n",
    "desc_HOG_Gabor_train = []\n",
    "for Input in training_videos:\n",
    "    interest_points = Gabor_points(Input, sigma, tau, N)\n",
    "    interest_Gabor_points_training.append(interest_points)\n",
    "    desc = HOG(In, interest_points, 9, n, m)\n",
    "    desc_HOG_Gabor_train.append(desc)"
   ]
  },
  {
   "cell_type": "code",
   "execution_count": 27,
   "id": "eb0f4ffd",
   "metadata": {},
   "outputs": [],
   "source": [
    "interest_Gabor_points_test = []\n",
    "desc_HOG_Gabor_test = []\n",
    "for Input in test_videos:\n",
    "    interest_points = Gabor_points(Input, sigma, tau, N)\n",
    "    interest_Gabor_points_test.append(interest_points)\n",
    "    desc = HOG(In, interest_points, 9, n, m)\n",
    "    desc_HOG_Gabor_test.append(desc)"
   ]
  },
  {
   "cell_type": "code",
   "execution_count": 28,
   "id": "e89d7576",
   "metadata": {},
   "outputs": [
    {
     "data": {
      "text/html": [
       "\n",
       "                <audio  controls=\"controls\" autoplay=\"autoplay\">\n",
       "                    <source src=\"data:audio/wav;base64,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\" type=\"audio/wav\" />\n",
       "                    Your browser does not support the audio element.\n",
       "                </audio>\n",
       "              "
      ],
      "text/plain": [
       "<IPython.lib.display.Audio object>"
      ]
     },
     "execution_count": 28,
     "metadata": {},
     "output_type": "execute_result"
    }
   ],
   "source": [
    "#Bag of Words for Gabor/HOG\n",
    "bow_train_HOG_Gabor, bow_test_HOG_Gabor = bag_of_words(desc_HOG_Gabor_train, desc_HOG_Gabor_test, 400)\n",
    "notice(4)"
   ]
  },
  {
   "cell_type": "code",
   "execution_count": 29,
   "id": "16f785b2",
   "metadata": {},
   "outputs": [],
   "source": [
    "#Gabor/HOF\n",
    "desc_HOF_Gabor_train = []\n",
    "i = 0\n",
    "for Input in training_videos:\n",
    "    desc = HOF(In, interest_Gabor_points_training[i], 9, n, m)\n",
    "    desc_HOF_Gabor_train.append(desc)\n",
    "    i += 1\n",
    "\n",
    "i = 0\n",
    "desc_HOF_Gabor_test = []\n",
    "for Input in test_videos:\n",
    "    desc = HOG(In, interest_Gabor_points_test[i], 9, n, m)\n",
    "    desc_HOF_Gabor_test.append(desc)\n",
    "    i += 1"
   ]
  },
  {
   "cell_type": "code",
   "execution_count": 40,
   "id": "a8cd65ce",
   "metadata": {},
   "outputs": [
    {
     "data": {
      "text/html": [
       "\n",
       "                <audio  controls=\"controls\" autoplay=\"autoplay\">\n",
       "                    <source src=\"data:audio/wav;base64,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\" type=\"audio/wav\" />\n",
       "                    Your browser does not support the audio element.\n",
       "                </audio>\n",
       "              "
      ],
      "text/plain": [
       "<IPython.lib.display.Audio object>"
      ]
     },
     "execution_count": 40,
     "metadata": {},
     "output_type": "execute_result"
    }
   ],
   "source": [
    "#Bag of Words for Gabor/HOF\n",
    "bow_train_HOF_Gabor, bow_test_HOF_Gabor = bag_of_words(desc_HOF_Gabor_train, desc_HOF_Gabor_test, 20)\n",
    "notice(5)"
   ]
  },
  {
   "cell_type": "code",
   "execution_count": 31,
   "id": "7ddc981e",
   "metadata": {},
   "outputs": [],
   "source": [
    "#Gabor/HOF_HOG\n",
    "desc_HOF_HOG_Gabor_train = []\n",
    "i = 0\n",
    "for Input in training_videos:\n",
    "    desc = HOF_HOG(In, interest_Gabor_points_training[i], 9, n, m)\n",
    "    desc_HOF_HOG_Gabor_train.append(desc)\n",
    "    i += 1\n",
    "\n",
    "i = 0\n",
    "desc_HOF_HOG_Gabor_test = []\n",
    "for Input in test_videos:\n",
    "    desc = HOF_HOG(In, interest_Gabor_points_test[i], 9, n, m)\n",
    "    desc_HOF_HOG_Gabor_test.append(desc)\n",
    "    i += 1"
   ]
  },
  {
   "cell_type": "code",
   "execution_count": 33,
   "id": "bc4da32c",
   "metadata": {},
   "outputs": [
    {
     "data": {
      "text/html": [
       "\n",
       "                <audio  controls=\"controls\" autoplay=\"autoplay\">\n",
       "                    <source src=\"data:audio/wav;base64,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\" type=\"audio/wav\" />\n",
       "                    Your browser does not support the audio element.\n",
       "                </audio>\n",
       "              "
      ],
      "text/plain": [
       "<IPython.lib.display.Audio object>"
      ]
     },
     "execution_count": 33,
     "metadata": {},
     "output_type": "execute_result"
    }
   ],
   "source": [
    "#Bag of Words for Gabor/HOF_HOG\n",
    "bow_train_HOF_HOG_Gabor, bow_test_HOF_HOG_Gabor = bag_of_words(desc_HOF_HOG_Gabor_train, desc_HOF_HOG_Gabor_test, 400)\n",
    "notice(6)"
   ]
  },
  {
   "cell_type": "code",
   "execution_count": 34,
   "id": "445bb214",
   "metadata": {},
   "outputs": [
    {
     "name": "stdout",
     "output_type": "stream",
     "text": [
      "\u001b[1mdetector:\tHarris \n",
      "descriptor:\tHOG\u001b[0m\n",
      "\n",
      "The accuracy for the combination is 41.667%\n",
      "\n",
      "Here is a table with detailed results:\n",
      "\n",
      "Video Name \t \t \t Correct Prediction\n",
      "person07_walking_d4_uncomp.avi\t walk\t run\t False\n",
      "person08_walking_d2_uncomp.avi\t walk\t walk\t True\n",
      "person11_walking_d1_uncomp.avi\t walk\t run\t False\n",
      "person20_walking_d3_uncomp.avi\t walk\t run\t False\n",
      "person06_boxing_d1_uncomp.avi\t box\t run\t False\n",
      "person07_boxing_d3_uncomp.avi\t box\t run\t False\n",
      "person11_boxing_d2_uncomp.avi\t box\t box\t True\n",
      "person15_boxing_d4_uncomp.avi\t box\t run\t False\n",
      "person10_running_d2_uncomp.avi\t run\t box\t False\n",
      "person20_running_d1_uncomp.avi\t run\t run\t True\n",
      "person24_running_d3_uncomp.avi\t run\t run\t True\n",
      "person25_running_d4_uncomp.avi\t run\t run\t True\n"
     ]
    }
   ],
   "source": [
    "combo = 'detector:\\tHarris \\ndescriptor:\\tHOG'\n",
    "bow_train = bow_train_HOG_Harris\n",
    "bow_test = bow_test_HOG_Harris\n",
    "accuracy, pred = svm_train_test(bow_train, training_labels, bow_test, test_labels)\n",
    "print('\\033[1m' + combo + '\\033[0m')\n",
    "print()\n",
    "print('The accuracy for the combination is ' + str(format(accuracy*100, \".3f\")) + \"%\")\n",
    "print()\n",
    "print(\"Here is a table with detailed results:\")\n",
    "print()\n",
    "k = test_videos_name\n",
    "a = test_labels\n",
    "b = pred\n",
    "c = a == b\n",
    "print(\"Video Name \\t \\t \\t Correct Prediction\")\n",
    "\n",
    "for i in range(len(a)):\n",
    "    print(k[i] + '\\t ' + a[i] + '\\t ' + b[i]+ '\\t ' + str(c[i]))"
   ]
  },
  {
   "cell_type": "code",
   "execution_count": 35,
   "id": "734d21a8",
   "metadata": {
    "scrolled": true
   },
   "outputs": [
    {
     "name": "stdout",
     "output_type": "stream",
     "text": [
      "\u001b[1mdetector:\tHarris \n",
      "descriptor:\tHOF\u001b[0m\n",
      "\n",
      "The accuracy for the combination is 33.333%\n",
      "\n",
      "Here is a table with detailed results:\n",
      "\n",
      "Video Name \t \t \t Correct Prediction\n",
      "person07_walking_d4_uncomp.avi\t walk\t walk\t True\n",
      "person08_walking_d2_uncomp.avi\t walk\t walk\t True\n",
      "person11_walking_d1_uncomp.avi\t walk\t walk\t True\n",
      "person20_walking_d3_uncomp.avi\t walk\t walk\t True\n",
      "person06_boxing_d1_uncomp.avi\t box\t walk\t False\n",
      "person07_boxing_d3_uncomp.avi\t box\t walk\t False\n",
      "person11_boxing_d2_uncomp.avi\t box\t walk\t False\n",
      "person15_boxing_d4_uncomp.avi\t box\t walk\t False\n",
      "person10_running_d2_uncomp.avi\t run\t walk\t False\n",
      "person20_running_d1_uncomp.avi\t run\t walk\t False\n",
      "person24_running_d3_uncomp.avi\t run\t walk\t False\n",
      "person25_running_d4_uncomp.avi\t run\t walk\t False\n"
     ]
    }
   ],
   "source": [
    "combo = 'detector:\\tHarris \\ndescriptor:\\tHOF'\n",
    "bow_train = bow_train_HOF_Harris\n",
    "bow_test = bow_test_HOF_Harris\n",
    "accuracy, pred = svm_train_test(bow_train, training_labels, bow_test, test_labels)\n",
    "print('\\033[1m' + combo + '\\033[0m')\n",
    "print()\n",
    "print('The accuracy for the combination is ' + str(format(accuracy*100, \".3f\")) + \"%\")\n",
    "print()\n",
    "print(\"Here is a table with detailed results:\")\n",
    "print()\n",
    "k = test_videos_name\n",
    "a = test_labels\n",
    "b = pred\n",
    "c = a == b\n",
    "print(\"Video Name \\t \\t \\t Correct Prediction\")\n",
    "\n",
    "for i in range(len(a)):\n",
    "    print(k[i] + '\\t ' + a[i] + '\\t ' + b[i]+ '\\t ' + str(c[i]))"
   ]
  },
  {
   "cell_type": "code",
   "execution_count": 36,
   "id": "badcd305",
   "metadata": {
    "scrolled": false
   },
   "outputs": [
    {
     "name": "stdout",
     "output_type": "stream",
     "text": [
      "\u001b[1mdetector:\tHarris \n",
      "descriptor:\tHOF and HOG\u001b[0m\n",
      "\n",
      "The accuracy for the combination is 83.333%\n",
      "\n",
      "Here is a table with detailed results:\n",
      "\n",
      "Video Name \t \t \t Correct Prediction\n",
      "person07_walking_d4_uncomp.avi\t walk\t walk\t True\n",
      "person08_walking_d2_uncomp.avi\t walk\t walk\t True\n",
      "person11_walking_d1_uncomp.avi\t walk\t walk\t True\n",
      "person20_walking_d3_uncomp.avi\t walk\t run\t False\n",
      "person06_boxing_d1_uncomp.avi\t box\t box\t True\n",
      "person07_boxing_d3_uncomp.avi\t box\t walk\t False\n",
      "person11_boxing_d2_uncomp.avi\t box\t box\t True\n",
      "person15_boxing_d4_uncomp.avi\t box\t box\t True\n",
      "person10_running_d2_uncomp.avi\t run\t run\t True\n",
      "person20_running_d1_uncomp.avi\t run\t run\t True\n",
      "person24_running_d3_uncomp.avi\t run\t run\t True\n",
      "person25_running_d4_uncomp.avi\t run\t run\t True\n"
     ]
    }
   ],
   "source": [
    "combo = 'detector:\\tHarris \\ndescriptor:\\tHOF and HOG'\n",
    "bow_train = bow_train_HOF_HOG_Harris\n",
    "bow_test = bow_test_HOF_HOG_Harris\n",
    "accuracy, pred = svm_train_test(bow_train, training_labels, bow_test, test_labels)\n",
    "print('\\033[1m' + combo + '\\033[0m')\n",
    "print()\n",
    "print('The accuracy for the combination is ' + str(format(accuracy*100, \".3f\")) + \"%\")\n",
    "print()\n",
    "print(\"Here is a table with detailed results:\")\n",
    "print()\n",
    "k = test_videos_name\n",
    "a = test_labels\n",
    "b = pred\n",
    "c = a == b\n",
    "print(\"Video Name \\t \\t \\t Correct Prediction\")\n",
    "\n",
    "for i in range(len(a)):\n",
    "    print(k[i] + '\\t ' + a[i] + '\\t ' + b[i]+ '\\t ' + str(c[i]))"
   ]
  },
  {
   "cell_type": "code",
   "execution_count": 37,
   "id": "d24dbf26",
   "metadata": {
    "scrolled": true
   },
   "outputs": [
    {
     "name": "stdout",
     "output_type": "stream",
     "text": [
      "\u001b[1mdetector:\tGabor \n",
      "descriptor:\tHOG\u001b[0m\n",
      "\n",
      "The accuracy for the combination is 41.667%\n",
      "\n",
      "Here is a table with detailed results:\n",
      "\n",
      "Video Name \t \t \t Correct Prediction\n",
      "person07_walking_d4_uncomp.avi\t walk\t run\t False\n",
      "person08_walking_d2_uncomp.avi\t walk\t run\t False\n",
      "person11_walking_d1_uncomp.avi\t walk\t run\t False\n",
      "person20_walking_d3_uncomp.avi\t walk\t run\t False\n",
      "person06_boxing_d1_uncomp.avi\t box\t run\t False\n",
      "person07_boxing_d3_uncomp.avi\t box\t box\t True\n",
      "person11_boxing_d2_uncomp.avi\t box\t run\t False\n",
      "person15_boxing_d4_uncomp.avi\t box\t run\t False\n",
      "person10_running_d2_uncomp.avi\t run\t run\t True\n",
      "person20_running_d1_uncomp.avi\t run\t run\t True\n",
      "person24_running_d3_uncomp.avi\t run\t run\t True\n",
      "person25_running_d4_uncomp.avi\t run\t run\t True\n"
     ]
    }
   ],
   "source": [
    "combo = 'detector:\\tGabor \\ndescriptor:\\tHOG'\n",
    "bow_train = bow_train_HOG_Gabor\n",
    "bow_test = bow_test_HOG_Gabor\n",
    "accuracy, pred = svm_train_test(bow_train, training_labels, bow_test, test_labels)\n",
    "print('\\033[1m' + combo + '\\033[0m')\n",
    "print()\n",
    "print('The accuracy for the combination is ' + str(format(accuracy*100, \".3f\")) + \"%\")\n",
    "print()\n",
    "print(\"Here is a table with detailed results:\")\n",
    "print()\n",
    "k = test_videos_name\n",
    "a = test_labels\n",
    "b = pred\n",
    "c = a == b\n",
    "print(\"Video Name \\t \\t \\t Correct Prediction\")\n",
    "\n",
    "for i in range(len(a)):\n",
    "    print(k[i] + '\\t ' + a[i] + '\\t ' + b[i]+ '\\t ' + str(c[i]))"
   ]
  },
  {
   "cell_type": "code",
   "execution_count": 41,
   "id": "e1419d80",
   "metadata": {
    "scrolled": false
   },
   "outputs": [
    {
     "name": "stdout",
     "output_type": "stream",
     "text": [
      "\u001b[1mdetector:\tGabor \n",
      "descriptor:\tHOF\u001b[0m\n",
      "\n",
      "The accuracy for the combination is 33.333%\n",
      "\n",
      "Here is a table with detailed results:\n",
      "\n",
      "Video Name \t \t \t Correct Prediction\n",
      "person07_walking_d4_uncomp.avi\t walk\t walk\t True\n",
      "person08_walking_d2_uncomp.avi\t walk\t walk\t True\n",
      "person11_walking_d1_uncomp.avi\t walk\t walk\t True\n",
      "person20_walking_d3_uncomp.avi\t walk\t walk\t True\n",
      "person06_boxing_d1_uncomp.avi\t box\t walk\t False\n",
      "person07_boxing_d3_uncomp.avi\t box\t walk\t False\n",
      "person11_boxing_d2_uncomp.avi\t box\t walk\t False\n",
      "person15_boxing_d4_uncomp.avi\t box\t walk\t False\n",
      "person10_running_d2_uncomp.avi\t run\t walk\t False\n",
      "person20_running_d1_uncomp.avi\t run\t walk\t False\n",
      "person24_running_d3_uncomp.avi\t run\t walk\t False\n",
      "person25_running_d4_uncomp.avi\t run\t walk\t False\n"
     ]
    }
   ],
   "source": [
    "combo = 'detector:\\tGabor \\ndescriptor:\\tHOF'\n",
    "bow_train = bow_train_HOF_Gabor\n",
    "bow_test = bow_test_HOF_Gabor\n",
    "accuracy, pred = svm_train_test(bow_train, training_labels, bow_test, test_labels)\n",
    "print('\\033[1m' + combo + '\\033[0m')\n",
    "print()\n",
    "print('The accuracy for the combination is ' + str(format(accuracy*100, \".3f\")) + \"%\")\n",
    "print()\n",
    "print(\"Here is a table with detailed results:\")\n",
    "print()\n",
    "k = test_videos_name\n",
    "a = test_labels\n",
    "b = pred\n",
    "c = a == b\n",
    "print(\"Video Name \\t \\t \\t Correct Prediction\")\n",
    "\n",
    "for i in range(len(a)):\n",
    "    print(k[i] + '\\t ' + a[i] + '\\t ' + b[i]+ '\\t ' + str(c[i]))"
   ]
  },
  {
   "cell_type": "code",
   "execution_count": 39,
   "id": "5abe5e5d",
   "metadata": {
    "scrolled": true
   },
   "outputs": [
    {
     "name": "stdout",
     "output_type": "stream",
     "text": [
      "\u001b[1mdetector:\tGabor \n",
      "descriptor:\tHOF and HOG\u001b[0m\n",
      "\n",
      "The accuracy for the combination is 91.667%\n",
      "\n",
      "Here is a table with detailed results:\n",
      "\n",
      "Video Name \t \t \t Correct Prediction\n",
      "person07_walking_d4_uncomp.avi\t walk\t walk\t True\n",
      "person08_walking_d2_uncomp.avi\t walk\t walk\t True\n",
      "person11_walking_d1_uncomp.avi\t walk\t run\t False\n",
      "person20_walking_d3_uncomp.avi\t walk\t walk\t True\n",
      "person06_boxing_d1_uncomp.avi\t box\t box\t True\n",
      "person07_boxing_d3_uncomp.avi\t box\t box\t True\n",
      "person11_boxing_d2_uncomp.avi\t box\t box\t True\n",
      "person15_boxing_d4_uncomp.avi\t box\t box\t True\n",
      "person10_running_d2_uncomp.avi\t run\t run\t True\n",
      "person20_running_d1_uncomp.avi\t run\t run\t True\n",
      "person24_running_d3_uncomp.avi\t run\t run\t True\n",
      "person25_running_d4_uncomp.avi\t run\t run\t True\n"
     ]
    }
   ],
   "source": [
    "combo = 'detector:\\tGabor \\ndescriptor:\\tHOF and HOG'\n",
    "bow_train = bow_train_HOF_HOG_Gabor\n",
    "bow_test = bow_test_HOF_HOG_Gabor\n",
    "accuracy, pred = svm_train_test(bow_train, training_labels, bow_test, test_labels)\n",
    "print('\\033[1m' + combo + '\\033[0m')\n",
    "print()\n",
    "print('The accuracy for the combination is ' + str(format(accuracy*100, \".3f\")) + \"%\")\n",
    "print()\n",
    "print(\"Here is a table with detailed results:\")\n",
    "print()\n",
    "k = test_videos_name\n",
    "a = test_labels\n",
    "b = pred\n",
    "c = a == b\n",
    "print(\"Video Name \\t \\t \\t Correct Prediction\")\n",
    "\n",
    "for i in range(len(a)):\n",
    "    print(k[i] + '\\t ' + a[i] + '\\t ' + b[i]+ '\\t ' + str(c[i]))"
   ]
  }
 ],
 "metadata": {
  "kernelspec": {
   "display_name": "Python 3 (ipykernel)",
   "language": "python",
   "name": "python3"
  },
  "language_info": {
   "codemirror_mode": {
    "name": "ipython",
    "version": 3
   },
   "file_extension": ".py",
   "mimetype": "text/x-python",
   "name": "python",
   "nbconvert_exporter": "python",
   "pygments_lexer": "ipython3",
   "version": "3.7.11"
  }
 },
 "nbformat": 4,
 "nbformat_minor": 5
}
